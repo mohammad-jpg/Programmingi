{
 "cells": [
  {
   "cell_type": "code",
   "execution_count": 4,
   "metadata": {},
   "outputs": [
    {
     "name": "stdout",
     "output_type": "stream",
     "text": [
      "Enter orginal amount:300\n",
      "Enter exchange rate:1.1\n",
      "price in the new currency:330.0\n"
     ]
    }
   ],
   "source": [
    "#problem 1\n",
    "amount = float(input(\"Enter orginal amount:\"))\n",
    "xchange = float(input(\"Enter exchange rate:\"))\n",
    "\n",
    "print('price in the new currency:'+ str(amount*xchange) )"
   ]
  },
  {
   "cell_type": "code",
   "execution_count": 11,
   "metadata": {},
   "outputs": [
    {
     "name": "stdout",
     "output_type": "stream",
     "text": [
      "Enter Side:3\n",
      "The area of a square with side of length: 9.0\n",
      "The volume of a cube with side of that length: 27.0\n",
      "The area of a circule with radius of that length: 28.274333882308138\n",
      "The volume of a sphere with radius of that length: 113.09733552923254\n",
      "The volume of a cylinder with radius of that length and side of that length: 84.82300164692441\n"
     ]
    }
   ],
   "source": [
    "import math\n",
    "#problem 2\n",
    "side = float(input(\"Enter Side:\"))\n",
    "\n",
    "\n",
    "print(\"The area of a square with side of length: \" + str( pow(side,2)))\n",
    "print(\"The volume of a cube with side of that length: \" + str( pow(side,3)))\n",
    "print(\"The area of a circule with radius of that length: \" + str( math.pi*pow(side,2)))\n",
    "print(\"The volume of a sphere with radius of that length: \" + str( (4/3)*math.pi*pow(side,3)))\n",
    "print(\"The volume of a cylinder with radius of that length and side of that length: \" + str( side*math.pi*pow(side,2)))"
   ]
  },
  {
   "cell_type": "code",
   "execution_count": 12,
   "metadata": {},
   "outputs": [
    {
     "name": "stdout",
     "output_type": "stream",
     "text": [
      "Enter Pay Amount:35000\n",
      "-------PAYSLIP--------\n",
      "Gross Pay:35000.0\n",
      "Lower Rate of Tax (a):4830.0\n",
      "Higher Rate of Tax (b):1890.0000000000002\n",
      "Total Tax(a+b)6720.0\n",
      "Net Pay:28280.0\n"
     ]
    }
   ],
   "source": [
    "#problem 3\n",
    "pay = float(input(\"Enter Pay Amount:\"))\n",
    "lower_amnt = pay*0.6\n",
    "higher_amnt = pay*0.4\n",
    "\n",
    "\n",
    "lower_tax = lower_amnt*0.23\n",
    "higher_tax = higher_amnt*0.135\n",
    "\n",
    "tax_bill = lower_tax + higher_tax\n",
    "\n",
    "print(\"-------PAYSLIP--------\")\n",
    "print(\"Gross Pay:\" + str(pay))\n",
    "print(\"Lower Rate of Tax (a):\" + str(lower_tax))\n",
    "print(\"Higher Rate of Tax (b):\" + str(higher_tax))\n",
    "print(\"Total Tax(a+b)\" + str(tax_bill))\n",
    "print(\"Net Pay:\"+ str(pay - tax_bill))\n"
   ]
  },
  {
   "cell_type": "code",
   "execution_count": null,
   "metadata": {},
   "outputs": [],
   "source": []
  }
 ],
 "metadata": {
  "kernelspec": {
   "display_name": "Python 3",
   "language": "python",
   "name": "python3"
  },
  "language_info": {
   "codemirror_mode": {
    "name": "ipython",
    "version": 3
   },
   "file_extension": ".py",
   "mimetype": "text/x-python",
   "name": "python",
   "nbconvert_exporter": "python",
   "pygments_lexer": "ipython3",
   "version": "3.8.5"
  }
 },
 "nbformat": 4,
 "nbformat_minor": 4
}
